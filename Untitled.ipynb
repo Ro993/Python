{
 "cells": [
  {
   "cell_type": "code",
   "execution_count": 2,
   "id": "7d32d1e1-94a4-461a-8dab-0eeed8188ed0",
   "metadata": {},
   "outputs": [
    {
     "name": "stdout",
     "output_type": "stream",
     "text": [
      "Hello\n"
     ]
    }
   ],
   "source": [
    "print(\"Hello\")"
   ]
  },
  {
   "cell_type": "code",
   "execution_count": 4,
   "id": "d9e3cef9-4cc3-4e31-8807-601487189ae3",
   "metadata": {},
   "outputs": [
    {
     "name": "stdout",
     "output_type": "stream",
     "text": [
      "not in lobby\n"
     ]
    }
   ],
   "source": [
    "# condition statements\n",
    "x=10\n",
    "if(x>10):\n",
    "    print(\"Hello\")\n",
    "else:\n",
    "    print(\"not in lobby\")\n"
   ]
  },
  {
   "cell_type": "code",
   "execution_count": 7,
   "id": "3b30e677-9a79-4aa8-be10-bcfcff8c795b",
   "metadata": {},
   "outputs": [],
   "source": [
    "x=\"Rohit\"\n",
    "if(len(x)>=5 and len(x)<=10):\n",
    "    print(\"True\")"
   ]
  },
  {
   "cell_type": "code",
   "execution_count": 10,
   "id": "a3dd1aab-2ae6-4138-80d1-19359de3f5e1",
   "metadata": {},
   "outputs": [
    {
     "name": "stdout",
     "output_type": "stream",
     "text": [
      "even\n"
     ]
    }
   ],
   "source": [
    "x=10\n",
    "if(x%2==0):\n",
    "    print(\"even\")\n",
    "else:\n",
    "    print(\"odd\")"
   ]
  },
  {
   "cell_type": "code",
   "execution_count": 13,
   "id": "dd7e42c5-b952-4271-913d-ce6cd5c6cc26",
   "metadata": {},
   "outputs": [
    {
     "name": "stdout",
     "output_type": "stream",
     "text": [
      "number is greater then y and z\n"
     ]
    }
   ],
   "source": [
    "x=33\n",
    "y=15\n",
    "z=30\n",
    "if(x>y and x>z):\n",
    "    print(\"number is greater then y and z\")    \n",
    "elif(y>x and y>z):\n",
    "    print(\"number is greater then x and z\")"
   ]
  },
  {
   "cell_type": "code",
   "execution_count": 24,
   "id": "fcccc05c-6eae-4e06-9926-e01d668af0d3",
   "metadata": {},
   "outputs": [
    {
     "name": "stdout",
     "output_type": "stream",
     "text": [
      "this is leep year\n"
     ]
    }
   ],
   "source": [
    "x=2024\n",
    "if((x % 4 == 0) and (x % 100 != 0) or  (x % 400 == 0)):\n",
    "    print(\"this is leep year\")"
   ]
  },
  {
   "cell_type": "code",
   "execution_count": null,
   "id": "4350ad8a-6dcc-4d1a-a4f4-dfda9665614a",
   "metadata": {},
   "outputs": [],
   "source": []
  },
  {
   "cell_type": "code",
   "execution_count": null,
   "id": "113ce29e-bbca-4322-bd0b-addd757824d8",
   "metadata": {},
   "outputs": [],
   "source": []
  }
 ],
 "metadata": {
  "kernelspec": {
   "display_name": "Python 3 (ipykernel)",
   "language": "python",
   "name": "python3"
  },
  "language_info": {
   "codemirror_mode": {
    "name": "ipython",
    "version": 3
   },
   "file_extension": ".py",
   "mimetype": "text/x-python",
   "name": "python",
   "nbconvert_exporter": "python",
   "pygments_lexer": "ipython3",
   "version": "3.11.4"
  }
 },
 "nbformat": 4,
 "nbformat_minor": 5
}
