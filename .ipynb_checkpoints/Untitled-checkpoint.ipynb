{
 "cells": [
  {
   "cell_type": "code",
   "execution_count": 2,
   "id": "7d32d1e1-94a4-461a-8dab-0eeed8188ed0",
   "metadata": {},
   "outputs": [
    {
     "name": "stdout",
     "output_type": "stream",
     "text": [
      "Hello\n"
     ]
    }
   ],
   "source": [
    "print(\"Hello\")"
   ]
  },
  {
   "cell_type": "code",
   "execution_count": 4,
   "id": "d9e3cef9-4cc3-4e31-8807-601487189ae3",
   "metadata": {},
   "outputs": [
    {
     "name": "stdout",
     "output_type": "stream",
     "text": [
      "not in lobby\n"
     ]
    }
   ],
   "source": [
    "# condition statements\n",
    "x=10\n",
    "if(x>10):\n",
    "    print(\"Hello\")\n",
    "else:\n",
    "    print(\"not in lobby\")\n"
   ]
  },
  {
   "cell_type": "code",
   "execution_count": 7,
   "id": "3b30e677-9a79-4aa8-be10-bcfcff8c795b",
   "metadata": {},
   "outputs": [],
   "source": [
    "x=\"Rohit\"\n",
    "if(len(x)>=5 and len(x)<=10):\n",
    "    print(\"True\")"
   ]
  },
  {
   "cell_type": "code",
   "execution_count": null,
   "id": "a3dd1aab-2ae6-4138-80d1-19359de3f5e1",
   "metadata": {},
   "outputs": [],
   "source": []
  }
 ],
 "metadata": {
  "kernelspec": {
   "display_name": "Python 3 (ipykernel)",
   "language": "python",
   "name": "python3"
  },
  "language_info": {
   "codemirror_mode": {
    "name": "ipython",
    "version": 3
   },
   "file_extension": ".py",
   "mimetype": "text/x-python",
   "name": "python",
   "nbconvert_exporter": "python",
   "pygments_lexer": "ipython3",
   "version": "3.11.4"
  }
 },
 "nbformat": 4,
 "nbformat_minor": 5
}
